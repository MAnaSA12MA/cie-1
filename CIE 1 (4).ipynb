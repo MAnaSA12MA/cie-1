{
 "cells": [
  {
   "cell_type": "code",
   "execution_count": 1,
   "id": "2a8c683c-082b-4e2c-9a1e-46e8c5d7e148",
   "metadata": {},
   "outputs": [
    {
     "name": "stdout",
     "output_type": "stream",
     "text": [
      "reverse of the data\n",
      "[24 23 18  3  7 45]\n"
     ]
    }
   ],
   "source": [
    "import numpy as np\n",
    "arr=np.array([45,7,3,18,23,24,16])\n",
    "res=np.flip (arr[-7:-1])\n",
    "print('reverse of the data')\n",
    "print(res)"
   ]
  },
  {
   "cell_type": "code",
   "execution_count": 21,
   "id": "b06ce0e6-d4d5-4417-bc6d-e59a970366f5",
   "metadata": {},
   "outputs": [
    {
     "name": "stdout",
     "output_type": "stream",
     "text": [
      "concatenated 2 arrays using axis: [[ 5  3  7]\n",
      " [13 24 16]\n",
      " [18 24  7]\n",
      " [30 17 24]]\n"
     ]
    }
   ],
   "source": [
    "import numpy as np\n",
    "arr=np.array([[5,3,7],[13,24,16]])\n",
    "arr1=np.array([[18,24,7],[30,17,24]])\n",
    "con=np.concatenate((arr,arr1),axis=0)\n",
    "print('concatenated 2 arrays using axis:',con)"
   ]
  },
  {
   "cell_type": "code",
   "execution_count": 43,
   "id": "50bbe821-0ee8-4818-8898-925be641ccfa",
   "metadata": {},
   "outputs": [
    {
     "name": "stdout",
     "output_type": "stream",
     "text": [
      "concatenated 2 array: [[ 3  1  6 18 77 45]\n",
      " [ 9 16 24 33  7  5]]\n"
     ]
    }
   ],
   "source": [
    "import numpy as np\n",
    "arr=np.array([[3,1,6],[9,16,24]])\n",
    "arr1=np.array([[18,77,45],[33,7,5]])\n",
    "con=np.concatenate((arr,arr1),axis=1)\n",
    "print('concatenated 2 array:',con)"
   ]
  },
  {
   "cell_type": "code",
   "execution_count": 35,
   "id": "7c09c451-58aa-49e1-8cca-5563113f2983",
   "metadata": {},
   "outputs": [
    {
     "name": "stdout",
     "output_type": "stream",
     "text": [
      "using concatenate to join two array\n",
      "concatenate two array arr: [ 5  1  7  6  3 16 17 23 24 20]\n"
     ]
    }
   ],
   "source": [
    "import numpy as np\n",
    "arr=np.array([5,1,7,6,3])\n",
    "arr1=np.array([16,17,23,24,20])\n",
    "con=np.concatenate([arr,arr1])\n",
    "print('using concatenate to join two array')\n",
    "print('concatenate two array arr:',con)"
   ]
  },
  {
   "cell_type": "code",
   "execution_count": null,
   "id": "d0479460-164e-4e3a-bf57-1e92f7c2929e",
   "metadata": {},
   "outputs": [],
   "source": []
  }
 ],
 "metadata": {
  "kernelspec": {
   "display_name": "Python 3 (ipykernel)",
   "language": "python",
   "name": "python3"
  },
  "language_info": {
   "codemirror_mode": {
    "name": "ipython",
    "version": 3
   },
   "file_extension": ".py",
   "mimetype": "text/x-python",
   "name": "python",
   "nbconvert_exporter": "python",
   "pygments_lexer": "ipython3",
   "version": "3.12.4"
  }
 },
 "nbformat": 4,
 "nbformat_minor": 5
}
